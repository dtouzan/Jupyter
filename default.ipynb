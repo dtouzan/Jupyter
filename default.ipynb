{
 "cells": [
  {
   "cell_type": "markdown",
   "id": "2b7a0939-b70c-4230-ab72-1e621acdf1b1",
   "metadata": {},
   "source": [
    "[![Le Baladin](https://img.shields.io/badge/Le_baladin-Cartes-blue.svg)](https://github.com/dtouzan/ciboulette/tree/main/sector)\n",
    "\n",
    "_Dominique Touzan_<sup>1,2</sup><br>\n",
    "Notebook<sup>1</sup>: https://github.com/dtouzan/Jupyter/blob/master/Messier29BV.ipynb<br>\n",
    "Correspondance<sup>2</sup>: [dtouzan@gmail.com](mailto:dtouzan@gmail.com)<br>"
   ]
  },
  {
   "cell_type": "markdown",
   "id": "91fa9cb2-a81c-401d-856e-ff3af7fe4321",
   "metadata": {
    "tags": [
     "gridwidth-1-6"
    ]
   },
   "source": [
    "**Résumé :**"
   ]
  },
  {
   "cell_type": "markdown",
   "id": "991d182f-05d7-492f-af34-99e770eb3f0b",
   "metadata": {
    "tags": [
     "gridwidth-5-6"
    ]
   },
   "source": [
    "Abstract"
   ]
  },
  {
   "cell_type": "markdown",
   "id": "34be2a25-d7d3-45e5-9b55-a94d7d4e9a92",
   "metadata": {
    "tags": [
     "gridwidth-1-6"
    ]
   },
   "source": [
    "**Mots-clés :**"
   ]
  },
  {
   "cell_type": "markdown",
   "id": "be9ac50c-1f42-4ee3-a60d-66b8eabf5f46",
   "metadata": {
    "tags": [
     "gridwidth-5-6"
    ]
   },
   "source": [
    "*Cartes, maps, atlas*"
   ]
  },
  {
   "cell_type": "code",
   "execution_count": null,
   "id": "a66268aa-ddb2-42fa-8bae-b02843e3abf1",
   "metadata": {},
   "outputs": [],
   "source": []
  }
 ],
 "metadata": {
  "kernelspec": {
   "display_name": "Python 3 (ipykernel)",
   "language": "python",
   "name": "python3"
  },
  "language_info": {
   "codemirror_mode": {
    "name": "ipython",
    "version": 3
   },
   "file_extension": ".py",
   "mimetype": "text/x-python",
   "name": "python",
   "nbconvert_exporter": "python",
   "pygments_lexer": "ipython3",
   "version": "3.13.1"
  }
 },
 "nbformat": 4,
 "nbformat_minor": 5
}
